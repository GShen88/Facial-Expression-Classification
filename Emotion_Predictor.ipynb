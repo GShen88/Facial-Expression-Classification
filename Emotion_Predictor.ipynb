{
 "cells": [
  {
   "cell_type": "code",
   "execution_count": 1,
   "metadata": {},
   "outputs": [
    {
     "name": "stderr",
     "output_type": "stream",
     "text": [
      "/Users/hiroyukiqaq/.virtualenvs/cv/lib/python3.6/site-packages/h5py/__init__.py:36: FutureWarning: Conversion of the second argument of issubdtype from `float` to `np.floating` is deprecated. In future, it will be treated as `np.float64 == np.dtype(float).type`.\n",
      "  from ._conv import register_converters as _register_converters\n"
     ]
    }
   ],
   "source": [
    "import tensorflow as tf\n",
    "import numpy as np\n",
    "import cv2\n",
    "from sklearn.metrics import confusion_matrix\n",
    "from sklearn.metrics import classification_report\n",
    "import pandas as pd\n",
    "import matplotlib.pyplot as plt\n",
    "import itertools"
   ]
  },
  {
   "cell_type": "code",
   "execution_count": 17,
   "metadata": {},
   "outputs": [
    {
     "data": {
      "text/plain": [
       "(48, 48)"
      ]
     },
     "execution_count": 17,
     "metadata": {},
     "output_type": "execute_result"
    }
   ],
   "source": [
    "# input_fn = 'presentation_material/Selfies/lebron_GREY.jpeg'\n",
    "# test_img = cv2.imread(input_fn)\n",
    "# test_img = cv2.cvtColor(test_img, cv2.COLOR_BGR2GRAY)\n",
    "# test_img.shape"
   ]
  },
  {
   "cell_type": "code",
   "execution_count": 18,
   "metadata": {},
   "outputs": [],
   "source": [
    "# read the data set\n",
    "def csv_reading(f_name):\n",
    "    with open(f_name, 'r') as data:\n",
    "        temp = pd.read_csv(data)\n",
    "    temp = temp.values.tolist()\n",
    "    for i in range(len(temp)):\n",
    "        temp[i][1] = temp[i][1].split(' ')\n",
    "    images = [item[1] for item in temp]\n",
    "    for i in range(len(images)):\n",
    "        images[i] = np.asarray([int(x) for x in images[i]])\n",
    "        images[i] = images[i].reshape([48, 48, 1])\n",
    "    labels = [item[0] for item in temp]\n",
    "    return np.asarray(images), labels\n",
    "\n",
    "images, labels = csv_reading('fer2013.csv')\n",
    "test_labels = labels[32298:]\n",
    "test_img = images[32298:]\n",
    "predict_labels = []"
   ]
  },
  {
   "cell_type": "code",
   "execution_count": 19,
   "metadata": {},
   "outputs": [
    {
     "name": "stdout",
     "output_type": "stream",
     "text": [
      "INFO:tensorflow:Restoring parameters from b'DeepCNN_Softmax/variables/variables'\n",
      "[6]\n"
     ]
    }
   ],
   "source": [
    "with tf.Session(graph=tf.Graph()) as sess1:\n",
    "    tf.saved_model.loader.load(\n",
    "        sess1,\n",
    "        [tf.saved_model.tag_constants.SERVING],\n",
    "        \"DeepCNN_Softmax\"\n",
    "    )\n",
    "\n",
    "    prediction = sess1.run(\n",
    "        'Softmax:0',\n",
    "        feed_dict={\n",
    "            'Placeholder:0': test_img.reshape([-1, 48, 48, 1])\n",
    "        }\n",
    "    )\n",
    "    result = np.argmax(prediction, axis=1)\n",
    "    print(np.argmax(prediction, axis=1))\n",
    "    "
   ]
  },
  {
   "cell_type": "code",
   "execution_count": 7,
   "metadata": {},
   "outputs": [
    {
     "name": "stdout",
     "output_type": "stream",
     "text": [
      "              precision    recall  f1-score   support\n",
      "\n",
      "       Angry       0.55      0.48      0.52       491\n",
      "     Disgust       0.53      0.42      0.47        55\n",
      "        Fear       0.48      0.29      0.36       528\n",
      "       Happy       0.75      0.85      0.80       879\n",
      "         Sad       0.41      0.57      0.48       594\n",
      "    Surprise       0.74      0.68      0.71       416\n",
      "     Neutral       0.55      0.53      0.54       626\n",
      "\n",
      "   micro avg       0.59      0.59      0.59      3589\n",
      "   macro avg       0.57      0.55      0.55      3589\n",
      "weighted avg       0.59      0.59      0.58      3589\n",
      "\n"
     ]
    }
   ],
   "source": [
    "target_names = ['Angry', 'Disgust', 'Fear', 'Happy', 'Sad', 'Surprise', 'Neutral']\n",
    "print(classification_report(test_labels, result, target_names=target_names))"
   ]
  },
  {
   "cell_type": "code",
   "execution_count": 29,
   "metadata": {},
   "outputs": [],
   "source": [
    "# plot the confusion matrix\n",
    "def plot_confusion_matrix(cm, classes,\n",
    "                          normalize=False,\n",
    "                          title='Confusion matrix',\n",
    "                          cmap=plt.cm.Oranges):\n",
    "    \"\"\"\n",
    "    This function prints and plots the confusion matrix.\n",
    "    Normalization can be applied by setting `normalize=True`.\n",
    "    \"\"\"\n",
    "    if normalize:\n",
    "        cm = cm.astype('float') / cm.sum(axis=1)[:, np.newaxis]\n",
    "        print(\"Normalized confusion matrix\")\n",
    "    else:\n",
    "        print('Confusion matrix, without normalization')\n",
    "\n",
    "    print(cm)\n",
    "\n",
    "    plt.imshow(cm, interpolation='nearest', cmap=cmap)\n",
    "    plt.title(title)\n",
    "    plt.colorbar()\n",
    "    tick_marks = np.arange(len(classes))\n",
    "    plt.xticks(tick_marks, classes, rotation=45)\n",
    "    plt.yticks(tick_marks, classes)\n",
    "\n",
    "    fmt = '.2f' if normalize else 'd'\n",
    "    thresh = cm.max() / 2.\n",
    "    for i, j in itertools.product(range(cm.shape[0]), range(cm.shape[1])):\n",
    "        plt.text(j, i, format(cm[i, j], fmt),\n",
    "                 horizontalalignment=\"center\",\n",
    "                 color=\"white\" if cm[i, j] > thresh else \"black\")\n",
    "\n",
    "    plt.tight_layout()\n",
    "    plt.ylabel('True label')\n",
    "    plt.xlabel('Predicted label')\n",
    "    \n",
    "plt.figure()\n",
    "plot_confusion_matrix(confusion_matrix(test_labels, result), classes=target_names,\n",
    "                      title='Confusion matrix, with normalization', normalize=True)\n",
    "plt.show()"
   ]
  },
  {
   "cell_type": "code",
   "execution_count": null,
   "metadata": {},
   "outputs": [],
   "source": [
    "# with tf.Session(graph=tf.Graph()) as sess2:\n",
    "#     tf.saved_model.loader.load(\n",
    "#         sess2,\n",
    "#         [tf.saved_model.tag_constants.SERVING],\n",
    "#         \"DeepCNN_Loss_Accuracy\"\n",
    "#     )\n",
    "\n",
    "#     loss1, accuracy1 = sess.run(\n",
    "#         ['Mean:0','Mean_1:0'],\n",
    "#         feed_dict={\n",
    "#             'Placeholder:0': test_img,\n",
    "#             'Placeholder_1:0': test_labels})\n",
    "    \n",
    "\n",
    "#     print(loss1, accuracy1)"
   ]
  },
  {
   "cell_type": "code",
   "execution_count": 32,
   "metadata": {},
   "outputs": [],
   "source": [
    "# np.savez('fer2013_data_set.npz', images = images, labels = labels)"
   ]
  },
  {
   "cell_type": "code",
   "execution_count": null,
   "metadata": {},
   "outputs": [],
   "source": []
  }
 ],
 "metadata": {
  "kernelspec": {
   "display_name": "Python 3",
   "language": "python",
   "name": "python3"
  },
  "language_info": {
   "codemirror_mode": {
    "name": "ipython",
    "version": 3
   },
   "file_extension": ".py",
   "mimetype": "text/x-python",
   "name": "python",
   "nbconvert_exporter": "python",
   "pygments_lexer": "ipython3",
   "version": "3.7.2"
  }
 },
 "nbformat": 4,
 "nbformat_minor": 2
}
